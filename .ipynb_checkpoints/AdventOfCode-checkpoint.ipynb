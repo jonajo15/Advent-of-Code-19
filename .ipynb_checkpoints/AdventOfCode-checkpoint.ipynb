{
 "cells": [
  {
   "cell_type": "code",
   "execution_count": 5,
   "metadata": {},
   "outputs": [],
   "source": [
    "import math"
   ]
  },
  {
   "cell_type": "code",
   "execution_count": 9,
   "metadata": {},
   "outputs": [
    {
     "name": "stdout",
     "output_type": "stream",
     "text": [
      "Number of fuels needed:  3427947\n"
     ]
    }
   ],
   "source": [
    "# Task 1\n",
    "f = open(\"day1_input.txt\", \"r\")\n",
    "fuel = 0\n",
    "for x in f:\n",
    "    fuel += math.floor(int(x.strip('\\n'))/3) -2\n",
    "    \n",
    "print(\"Number of fuels needed: \",fuel)"
   ]
  },
  {
   "cell_type": "code",
   "execution_count": 12,
   "metadata": {},
   "outputs": [
    {
     "name": "stdout",
     "output_type": "stream",
     "text": [
      "Number of fuels needed:  5139037\n"
     ]
    }
   ],
   "source": [
    "# Task 2\n",
    "f = open(\"day1_input.txt\", \"r\")\n",
    "fuel = 0\n",
    "for x in f:\n",
    "    fuel_temp = math.floor(int(x.strip('\\n'))/3) -2\n",
    "    sum_temp = fuel_temp\n",
    "    while fuel_temp >=3:\n",
    "        fuel_temp = math.floor(fuel_temp/3) -2\n",
    "        if fuel_temp <= 0:\n",
    "            break;\n",
    "        sum_temp +=fuel_temp\n",
    "    fuel += sum_temp\n",
    "\n",
    "print(\"Number of fuels needed: \",fuel)"
   ]
  },
  {
   "cell_type": "code",
   "execution_count": null,
   "metadata": {},
   "outputs": [],
   "source": []
  }
 ],
 "metadata": {
  "kernelspec": {
   "display_name": "Python 3",
   "language": "python",
   "name": "python3"
  },
  "language_info": {
   "codemirror_mode": {
    "name": "ipython",
    "version": 3
   },
   "file_extension": ".py",
   "mimetype": "text/x-python",
   "name": "python",
   "nbconvert_exporter": "python",
   "pygments_lexer": "ipython3",
   "version": "3.7.1"
  }
 },
 "nbformat": 4,
 "nbformat_minor": 2
}

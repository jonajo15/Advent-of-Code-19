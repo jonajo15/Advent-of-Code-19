{
 "cells": [
  {
   "cell_type": "code",
   "execution_count": 1,
   "metadata": {},
   "outputs": [],
   "source": [
    "import math"
   ]
  },
  {
   "cell_type": "code",
   "execution_count": 2,
   "metadata": {},
   "outputs": [
    {
     "name": "stdout",
     "output_type": "stream",
     "text": [
      "Number of fuels needed:  3427947\n"
     ]
    }
   ],
   "source": [
    "#Day 1 Task 1\n",
    "f = open(\"day1_input.txt\", \"r\")\n",
    "fuel = 0\n",
    "for x in f:\n",
    "    fuel += math.floor(int(x.strip('\\n'))/3) -2\n",
    "    \n",
    "print(\"Number of fuels needed: \",fuel)"
   ]
  },
  {
   "cell_type": "code",
   "execution_count": 3,
   "metadata": {},
   "outputs": [
    {
     "name": "stdout",
     "output_type": "stream",
     "text": [
      "Number of fuels needed:  5139037\n"
     ]
    }
   ],
   "source": [
    "#Day 1 Task 2\n",
    "f = open(\"day1_input.txt\", \"r\")\n",
    "fuel = 0\n",
    "for x in f:\n",
    "    fuel_temp = math.floor(int(x.strip('\\n'))/3) -2\n",
    "    sum_temp = fuel_temp\n",
    "    while fuel_temp >=3:\n",
    "        fuel_temp = math.floor(fuel_temp/3) -2\n",
    "        if fuel_temp <= 0:\n",
    "            break;\n",
    "        sum_temp +=fuel_temp\n",
    "    fuel += sum_temp\n",
    "\n",
    "print(\"Number of fuels needed: \",fuel)"
   ]
  },
  {
   "cell_type": "code",
   "execution_count": 4,
   "metadata": {},
   "outputs": [
    {
     "name": "stdout",
     "output_type": "stream",
     "text": [
      "6635\n"
     ]
    }
   ],
   "source": [
    "#Day 2\n",
    "f = open(\"day2_input.txt\", \"r\")\n",
    "numbers = []\n",
    "\n",
    "inp_s = f.readline().split(',')\n",
    "for d in inp_s:\n",
    "    numbers.append(int(d))\n",
    "\n",
    "for i in range(100):\n",
    "    for j in range(100):\n",
    "        inp = numbers.copy()\n",
    "        inp[1]=i\n",
    "        inp[2]=j\n",
    "        k = 0\n",
    "        while inp[k] != 99:\n",
    "            op = inp[k]\n",
    "            if op == 1:\n",
    "                inp[inp[k+3]] = inp[inp[k+1]] + inp[inp[k+2]]\n",
    "            elif op == 2:\n",
    "                inp[inp[k+3]] = inp[inp[k+1]] * inp[inp[k+2]]\n",
    "            k+=4\n",
    "            \n",
    "        if inp[0] == 19690720:\n",
    "            print((i*100)+j)\n",
    "            break;\n",
    "\n"
   ]
  },
  {
   "cell_type": "code",
   "execution_count": null,
   "metadata": {},
   "outputs": [],
   "source": []
  }
 ],
 "metadata": {
  "kernelspec": {
   "display_name": "Python 3",
   "language": "python",
   "name": "python3"
  },
  "language_info": {
   "codemirror_mode": {
    "name": "ipython",
    "version": 3
   },
   "file_extension": ".py",
   "mimetype": "text/x-python",
   "name": "python",
   "nbconvert_exporter": "python",
   "pygments_lexer": "ipython3",
   "version": "3.7.1"
  }
 },
 "nbformat": 4,
 "nbformat_minor": 2
}

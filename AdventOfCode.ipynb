{
 "cells": [
  {
   "cell_type": "code",
   "execution_count": 9,
   "metadata": {},
   "outputs": [
    {
     "name": "stdout",
     "output_type": "stream",
     "text": [
      "3427947\n"
     ]
    }
   ],
   "source": [
    "# Task 1\n",
    "import math\n",
    "f = open(\"day1_input.txt\", \"r\")\n",
    "weight = 0\n",
    "for x in f:\n",
    "    weight += math.floor(int(x.strip('\\n'))/3) -2\n",
    "print(weight)"
   ]
  },
  {
   "cell_type": "code",
   "execution_count": 54,
   "metadata": {},
   "outputs": [
    {
     "name": "stdout",
     "output_type": "stream",
     "text": [
      "5139037\n"
     ]
    }
   ],
   "source": [
    "# Task 2\n",
    "f = open(\"day1_input.txt\", \"r\")\n",
    "fuel = 0\n",
    "sum_temp = 0\n",
    "\n",
    "for x in f:\n",
    "    fuel_temp = math.floor(int(x.strip('\\n'))/3) -2\n",
    "    sum_temp = fuel_temp\n",
    "    while fuel_temp >=3:\n",
    "        fuel_temp = math.floor(fuel_temp/3) -2\n",
    "        if fuel_temp <= 0:\n",
    "            break;\n",
    "        sum_temp +=fuel_temp\n",
    "    fuel += sum_temp\n",
    "\n",
    "    \n",
    "print(fuel)"
   ]
  },
  {
   "cell_type": "code",
   "execution_count": null,
   "metadata": {},
   "outputs": [],
   "source": []
  }
 ],
 "metadata": {
  "kernelspec": {
   "display_name": "Python 3",
   "language": "python",
   "name": "python3"
  },
  "language_info": {
   "codemirror_mode": {
    "name": "ipython",
    "version": 3
   },
   "file_extension": ".py",
   "mimetype": "text/x-python",
   "name": "python",
   "nbconvert_exporter": "python",
   "pygments_lexer": "ipython3",
   "version": "3.7.1"
  }
 },
 "nbformat": 4,
 "nbformat_minor": 2
}

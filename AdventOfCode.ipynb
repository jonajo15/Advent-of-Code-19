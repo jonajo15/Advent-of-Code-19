{
 "cells": [
  {
   "cell_type": "code",
   "execution_count": 21,
   "metadata": {},
   "outputs": [],
   "source": [
    "import math\n",
    "import numpy as np\n",
    "import operator"
   ]
  },
  {
   "cell_type": "code",
   "execution_count": 22,
   "metadata": {},
   "outputs": [
    {
     "name": "stdout",
     "output_type": "stream",
     "text": [
      "Number of fuels needed:  3427947\n"
     ]
    }
   ],
   "source": [
    "#Day 1 Task 1\n",
    "f = open(\"day1_input.txt\", \"r\")\n",
    "fuel = 0\n",
    "for x in f:\n",
    "    fuel += math.floor(int(x.strip('\\n'))/3) -2\n",
    "    \n",
    "print(\"Number of fuels needed: \",fuel)"
   ]
  },
  {
   "cell_type": "code",
   "execution_count": 23,
   "metadata": {},
   "outputs": [
    {
     "name": "stdout",
     "output_type": "stream",
     "text": [
      "Number of fuels needed:  5139037\n"
     ]
    }
   ],
   "source": [
    "#Day 1 Task 2\n",
    "f = open(\"day1_input.txt\", \"r\")\n",
    "fuel = 0\n",
    "for x in f:\n",
    "    fuel_temp = math.floor(int(x.strip('\\n'))/3) -2\n",
    "    sum_temp = fuel_temp\n",
    "    while fuel_temp >=3:\n",
    "        fuel_temp = math.floor(fuel_temp/3) -2\n",
    "        if fuel_temp <= 0:\n",
    "            break;\n",
    "        sum_temp +=fuel_temp\n",
    "    fuel += sum_temp\n",
    "\n",
    "print(\"Number of fuels needed: \",fuel)"
   ]
  },
  {
   "cell_type": "code",
   "execution_count": 24,
   "metadata": {},
   "outputs": [
    {
     "name": "stdout",
     "output_type": "stream",
     "text": [
      "6635\n"
     ]
    }
   ],
   "source": [
    "#Day 2\n",
    "f = open(\"day2_input.txt\", \"r\")\n",
    "numbers = []\n",
    "\n",
    "inp_s = f.readline().split(',')\n",
    "for d in inp_s:\n",
    "    numbers.append(int(d))\n",
    "\n",
    "for i in range(100):\n",
    "    for j in range(100):\n",
    "        inp = numbers.copy()\n",
    "        inp[1]=i\n",
    "        inp[2]=j\n",
    "        k = 0\n",
    "        while inp[k] != 99:\n",
    "            op = inp[k]\n",
    "            if op == 1:\n",
    "                inp[inp[k+3]] = inp[inp[k+1]] + inp[inp[k+2]]\n",
    "            elif op == 2:\n",
    "                inp[inp[k+3]] = inp[inp[k+1]] * inp[inp[k+2]]\n",
    "            k+=4\n",
    "            \n",
    "        if inp[0] == 19690720:\n",
    "            print((i*100)+j)\n",
    "            break;\n",
    "\n"
   ]
  },
  {
   "cell_type": "code",
   "execution_count": 25,
   "metadata": {},
   "outputs": [],
   "source": [
    "#Part 2\n",
    "def calculate_distance(target, wire):\n",
    "    start = (0,0)\n",
    "    current_pos = start\n",
    "    distance = 0\n",
    "    for w in wire:\n",
    "        if w[0]=='R':\n",
    "            for move in range(int(w[1:])):\n",
    "                if (current_pos[0],current_pos[1]+move) == target:\n",
    "                    return distance\n",
    "                distance+=1\n",
    "            current_pos = (current_pos[0],current_pos[1]+int(w[1:]))\n",
    "        if w[0]=='L':\n",
    "            for move in range(int(w[1:])):\n",
    "                if (current_pos[0],current_pos[1]-move) == target:\n",
    "                    return distance\n",
    "                distance+=1\n",
    "            current_pos = (current_pos[0],current_pos[1]-int(w[1:]))\n",
    "        if w[0]=='D':\n",
    "            for move in range(int(w[1:])):\n",
    "                if (current_pos[0]+move,current_pos[1]) == target:\n",
    "                    return distance\n",
    "                distance+=1\n",
    "            current_pos = (current_pos[0]+int(w[1:]),current_pos[1])\n",
    "        if w[0]=='U':\n",
    "            for move in range(int(w[1:])):\n",
    "                if (current_pos[0]-move,current_pos[1]) == target:\n",
    "                    return distance\n",
    "                distance+=1\n",
    "            current_pos = (current_pos[0]-int(w[1:]),current_pos[1])"
   ]
  },
  {
   "cell_type": "code",
   "execution_count": 26,
   "metadata": {},
   "outputs": [
    {
     "name": "stdout",
     "output_type": "stream",
     "text": [
      "Part 1:  1064\n",
      "Part 2:  25676\n"
     ]
    }
   ],
   "source": [
    "#Day 3 part1\n",
    "f = open(\"day3_input.txt\", \"r\")\n",
    "\n",
    "wire_1 = f.readline().split(',')\n",
    "wire_2 = f.readline().split(',')\n",
    "\n",
    "board = {}\n",
    "intersections = {}\n",
    "distances_1 = {}\n",
    "distances_2 = {}\n",
    "\n",
    "start = (0,0)\n",
    "board[start] = 0\n",
    "current_pos = start\n",
    "\n",
    "\n",
    "\n",
    "for w in wire_1:\n",
    "    if w[0]=='R':\n",
    "        for move in range(int(w[1:])):\n",
    "            board[(current_pos[0],current_pos[1]+move)] = 1\n",
    "        current_pos = (current_pos[0],current_pos[1]+int(w[1:]))\n",
    "    if w[0]=='L':\n",
    "        for move in range(int(w[1:])):\n",
    "            board[(current_pos[0],current_pos[1]-move)] = 1\n",
    "        current_pos = (current_pos[0],current_pos[1]-int(w[1:]))\n",
    "    if w[0]=='D':\n",
    "        for move in range(int(w[1:])):\n",
    "            board[(current_pos[0]+move,current_pos[1])] = 1\n",
    "        current_pos = (current_pos[0]+int(w[1:]),current_pos[1])\n",
    "    if w[0]=='U':\n",
    "        for move in range(int(w[1:])):\n",
    "            board[(current_pos[0]-move,current_pos[1])] = 1\n",
    "        current_pos = (current_pos[0]-int(w[1:]),current_pos[1])\n",
    "\n",
    "current_pos = start\n",
    "\n",
    "for w in wire_2:\n",
    "    if w[0]=='R':\n",
    "        for move in range(int(w[1:])):\n",
    "            if (current_pos[0],current_pos[1]+move) in board:\n",
    "                intersections[(current_pos[0],current_pos[1]+move)] = 1\n",
    "        current_pos = (current_pos[0],current_pos[1]+int(w[1:]))\n",
    "    if w[0]=='L':\n",
    "        for move in range(int(w[1:])):\n",
    "            if (current_pos[0],current_pos[1]-move) in board:\n",
    "                intersections[(current_pos[0],current_pos[1]-move)] = 1\n",
    "        current_pos = (current_pos[0],current_pos[1]-int(w[1:]))\n",
    "    if w[0]=='D':\n",
    "        for move in range(int(w[1:])):\n",
    "            if (current_pos[0]+move,current_pos[1]) in board:\n",
    "                intersections[(current_pos[0]+move,current_pos[1])] = 1\n",
    "        current_pos = (current_pos[0]+int(w[1:]),current_pos[1])\n",
    "    if w[0]=='U':\n",
    "        for move in range(int(w[1:])):\n",
    "            if (current_pos[0]-move,current_pos[1]) in board:\n",
    "                intersections[(current_pos[0]-move,current_pos[1])] = 1\n",
    "        current_pos = [current_pos[0]-int(w[1:]),current_pos[1]]\n",
    "        \n",
    "del intersections[start]\n",
    "for k in intersections.keys():\n",
    "    distances_1[k] = (abs(k[0]-start[0]) + abs(k[1]-start[1]))\n",
    "    distances_2[k] = calculate_distance(k,wire_2)+ calculate_distance(k,wire_1)\n",
    "\n",
    "print(\"Part 1: \",min(distances_1.items(), key=operator.itemgetter(1))[1])\n",
    "print(\"Part 2: \",min(distances_2.items(), key=operator.itemgetter(1))[1])"
   ]
  },
  {
   "cell_type": "code",
   "execution_count": 27,
   "metadata": {},
   "outputs": [],
   "source": [
    "#Day 4 task 2\n",
    "def check_valid(n):\n",
    "    numbers = []\n",
    "    counter = 0\n",
    "    double = False\n",
    "    for c in str(n):\n",
    "        numbers.append(int(c))\n",
    "    for i in range(len(numbers)-1):\n",
    "        if numbers[i] > numbers[i+1]:\n",
    "            return False\n",
    "        if numbers[i] == numbers[i+1]:\n",
    "            counter +=1\n",
    "        else:\n",
    "            if counter == 1:\n",
    "                double = True\n",
    "            counter = 0\n",
    "    if counter == 1:\n",
    "        double = True\n",
    "    return double"
   ]
  },
  {
   "cell_type": "code",
   "execution_count": 28,
   "metadata": {},
   "outputs": [
    {
     "name": "stdout",
     "output_type": "stream",
     "text": [
      "1142\n"
     ]
    }
   ],
   "source": [
    "#Day 4 task 2\n",
    "r_step = 172930\n",
    "r_stop = 683082\n",
    "cnt = 0\n",
    "\n",
    "while r_step <= r_stop:\n",
    "    if check_valid(r_step):\n",
    "        cnt+=1\n",
    "    r_step+=1\n",
    "print(cnt)"
   ]
  },
  {
   "cell_type": "code",
   "execution_count": null,
   "metadata": {},
   "outputs": [],
   "source": []
  }
 ],
 "metadata": {
  "kernelspec": {
   "display_name": "Python 3",
   "language": "python",
   "name": "python3"
  },
  "language_info": {
   "codemirror_mode": {
    "name": "ipython",
    "version": 3
   },
   "file_extension": ".py",
   "mimetype": "text/x-python",
   "name": "python",
   "nbconvert_exporter": "python",
   "pygments_lexer": "ipython3",
   "version": "3.7.1"
  }
 },
 "nbformat": 4,
 "nbformat_minor": 2
}
